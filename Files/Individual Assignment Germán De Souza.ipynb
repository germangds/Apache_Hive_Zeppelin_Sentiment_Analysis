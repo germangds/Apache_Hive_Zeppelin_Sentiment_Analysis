﻿{
  "metadata": {
    "name": "Individual Assignment Germán De Souza",
    "kernelspec": {
      "language": "scala",
      "name": "spark2-scala"
    },
    "language_info": {
      "codemirror_mode": "text/x-scala",
      "file_extension": ".scala",
      "mimetype": "text/x-scala",
      "name": "scala",
      "pygments_lexer": "scala"
    }
  },
  "nbformat": 4,
  "nbformat_minor": 2,
  "cells": [
    {
      "cell_type": "markdown",
      "metadata": {},
      "source": "# Data Architectures Individual Assignment Germán Germán De Souza"
    },
    {
      "cell_type": "markdown",
      "metadata": {},
      "source": "## \u003cspan style\u003d\"color:orange\"\u003eQuestion 1 \u0026 2: Create database with student name and use it\u003c/span\u003e"
    },
    {
      "cell_type": "code",
      "execution_count": 2,
      "metadata": {
        "autoscroll": "auto"
      },
      "outputs": [],
      "source": "create database 2020s1_germangermandesouza;\nuse 2020s1_germangermandesouza"
    },
    {
      "cell_type": "markdown",
      "metadata": {},
      "source": "## \u003cspan style\u003d\"color:orange\"\u003eQuestion 3: Create external table called \"sentiment_dictionary\" and store it as textfile\u003c/span\u003e"
    },
    {
      "cell_type": "code",
      "execution_count": 4,
      "metadata": {
        "autoscroll": "auto"
      },
      "outputs": [],
      "source": "drop table if exists sentiment_dictionary;\ncreate external table sentiment_dictionary (type string, length integer, words string, word_type string, stemmed string, polarity string)\nrow format serde \u0027org.apache.hadoop.hive.serde2.OpenCSVSerde\u0027 \nwith serdeproperties (\"separatorChar\" \u003d \"\\t\") \nstored as textfile location \u0027/user/osbdet/dictionary\u0027;"
    },
    {
      "cell_type": "markdown",
      "metadata": {},
      "source": "## \u003cspan style\u003d\"color:orange\"\u003eQuestion 4: Create external table called \"tweets_json\" and store it as textfile\u003c/span\u003e"
    },
    {
      "cell_type": "code",
      "execution_count": 6,
      "metadata": {
        "autoscroll": "auto"
      },
      "outputs": [],
      "source": "drop table if exists tweets_json;\ncreate external table tweets_json (\ncreated_at string,\nid bigint,\nid_str string,\ntext string,\nsource string,\nlang string,\n`user` struct\u003cid:bigint,\n              name:string,\n              location:string,\n              followers_count:int,\n              geo_enabled:boolean,\n              lang:string,\n              statuses_count:int\u003e,\n`entities` struct\u003cuser_mentions:array\u003cstruct\u003cscreen_name:string\u003e\u003e,\n                  hashtags:array\u003cstruct\u003ctext:string\u003e\u003e\u003e\n)\nrow format serde \u0027org.apache.hive.hcatalog.data.JsonSerDe\u0027\nstored as textfile \nlocation \u0027/user/osbdet/tweets\u0027;"
    },
    {
      "cell_type": "markdown",
      "metadata": {},
      "source": "## \u003cspan style\u003d\"color:orange\"\u003eQuestion 7: Return total number of tweets collected with \"tweets_json\"\u003c/span\u003e"
    },
    {
      "cell_type": "code",
      "execution_count": 8,
      "metadata": {
        "autoscroll": "auto"
      },
      "outputs": [],
      "source": "select count(*) as num_tweets from tweets_json"
    },
    {
      "cell_type": "markdown",
      "metadata": {},
      "source": "## \u003cspan style\u003d\"color:orange\"\u003eQuestion 4: Create external table called \"tweets_parquet\" and store it as parquet\u003c/span\u003e"
    },
    {
      "cell_type": "code",
      "execution_count": 10,
      "metadata": {
        "autoscroll": "auto"
      },
      "outputs": [],
      "source": "drop table if exists tweets_parquet;\ncreate table tweets_parquet stored as parquet as select * from tweets_json"
    },
    {
      "cell_type": "markdown",
      "metadata": {},
      "source": "## \u003cspan style\u003d\"color:orange\"\u003eQuestion 7: Return total number of tweets collected with \"tweets_parquet\"\u003c/span\u003e"
    },
    {
      "cell_type": "code",
      "execution_count": 12,
      "metadata": {
        "autoscroll": "auto"
      },
      "outputs": [],
      "source": "select count(*) as count_tweets_parquet from tweets_parquet"
    },
    {
      "cell_type": "markdown",
      "metadata": {},
      "source": "## \u003cspan style\u003d\"color:orange\"\u003eQuestion 8: Which of the queries was faster (tweets_json and tweets_parquet)?\u003c/span\u003e"
    },
    {
      "cell_type": "markdown",
      "metadata": {},
      "source": "\u003cp\u003e\u003cb\u003e\u003ci\u003eWe can say that tweets_json took longer than tweets_parquet. This can be seen as tweets_parquet took 53 seconds and tweets_json took 58 seconds\u003c/i\u003e\u003c/b\u003e\u003c/p\u003e"
    },
    {
      "cell_type": "markdown",
      "metadata": {},
      "source": "## \u003cspan style\u003d\"color:orange\"\u003eQuestion 9: Total number of users with geolocation enabled\u003c/span\u003e"
    },
    {
      "cell_type": "code",
      "execution_count": 16,
      "metadata": {
        "autoscroll": "auto"
      },
      "outputs": [],
      "source": "select `user`.geo_enabled, count(*) as count_true from tweets_parquet\nwhere `user`.geo_enabled\u003dtrue\ngroup by `user`.geo_enabled"
    },
    {
      "cell_type": "markdown",
      "metadata": {},
      "source": "## \u003cspan style\u003d\"color:orange\"\u003eQuestion 10: Total number of tweets per language\u003c/span\u003e"
    },
    {
      "cell_type": "code",
      "execution_count": 18,
      "metadata": {
        "autoscroll": "auto"
      },
      "outputs": [],
      "source": "select lang, count(*) as count_language_n_tweets from tweets_parquet\ngroup by lang"
    },
    {
      "cell_type": "markdown",
      "metadata": {},
      "source": "## \u003cspan style\u003d\"color:orange\"\u003eQuestion 11: Top 10 with more tweets published\u003c/span\u003e"
    },
    {
      "cell_type": "code",
      "execution_count": 20,
      "metadata": {
        "autoscroll": "auto"
      },
      "outputs": [],
      "source": "select user_name,frequency from\n(select `user`.name as user_name, max(`user`.statuses_count) as frequency from tweets_parquet \ngroup by `user`.name\norder by frequency desc\nlimit 10) as tweet_freaks"
    },
    {
      "cell_type": "markdown",
      "metadata": {},
      "source": "## \u003cspan style\u003d\"color:orange\"\u003eQuestion 12: Top 10 with most followers\u003c/span\u003e"
    },
    {
      "cell_type": "code",
      "execution_count": 22,
      "metadata": {
        "autoscroll": "auto"
      },
      "outputs": [],
      "source": "select distinct(`user`.name),`user`.followers_count from tweets_parquet\norder by `user`.followers_count desc\nlimit 10;"
    },
    {
      "cell_type": "markdown",
      "metadata": {},
      "source": "## \u003cspan style\u003d\"color:orange\"\u003eQuestion 13: Top 10 most popular hashtags\u003c/span\u003e"
    },
    {
      "cell_type": "code",
      "execution_count": 24,
      "metadata": {
        "autoscroll": "auto"
      },
      "outputs": [],
      "source": "select hashtag, count(*) as frequency from tweets_parquet \nlateral view explode (`entities`.hashtags.text) e as hashtag\ngroup by hashtag\norder by frequency desc\nlimit 10"
    },
    {
      "cell_type": "markdown",
      "metadata": {},
      "source": "## \u003cspan style\u003d\"color:orange\"\u003eQuestion 14: Average number of words in a tweet\u003c/span\u003e"
    },
    {
      "cell_type": "code",
      "execution_count": 26,
      "metadata": {
        "autoscroll": "auto"
      },
      "outputs": [],
      "source": "select sum(words)/count(id) as avg_n_words_apple_tweets from \n(select id,count(*) as words from tweets_parquet \nlateral view explode(split(text, \u0027 \u0027)) e as words_\nwhere words_!\u003d\u0027\u0027 and words_!\u003d\u0027 \u0027 and words_ not rlike (\u0027!\u0027)\ngroup by id) as count_explode"
    },
    {
      "cell_type": "markdown",
      "metadata": {},
      "source": "## \u003cspan style\u003d\"color:orange\"\u003eQuestion 15: Max hashtags within the collected tweets and average number of hashtags in a tweet\u003c/span\u003e"
    },
    {
      "cell_type": "code",
      "execution_count": 28,
      "metadata": {
        "autoscroll": "auto"
      },
      "outputs": [],
      "source": "select max(frequency) as max_n_hashtags_for_post, avg(frequency) as avg_n_hashtags_per_user from\n(select id,count(hashtag) as frequency from tweets_parquet \nlateral view explode (`entities`.hashtags.text) e as hashtag\ngroup by id) as count_explode"
    },
    {
      "cell_type": "markdown",
      "metadata": {},
      "source": "## \u003cspan style\u003d\"color:orange\"\u003eQuestion 16: Top 10 users with most mentions\u003c/span\u003e"
    },
    {
      "cell_type": "code",
      "execution_count": 30,
      "metadata": {
        "autoscroll": "auto"
      },
      "outputs": [],
      "source": "select screen_name, count(*) as frequency from tweets_parquet \nlateral view explode (`entities`.user_mentions.screen_name) e as screen_name\ngroup by screen_name\norder by frequency desc\nlimit 10;"
    },
    {
      "cell_type": "markdown",
      "metadata": {},
      "source": "## \u003cspan style\u003d\"color:orange\"\u003eQuestion 17: Create a managed table called \"tweet_words\"\u003c/span\u003e"
    },
    {
      "cell_type": "code",
      "execution_count": 32,
      "metadata": {
        "autoscroll": "auto"
      },
      "outputs": [],
      "source": "drop table tweets_words;\ndrop table hello;\ncreate table hello as (select id, dummy_words from tweets_parquet lateral view explode(sentences(lower(text))) e as dummy_words);\ncreate table tweets_words as (select id, words from hello lateral view explode(dummy_words) e as words);"
    },
    {
      "cell_type": "markdown",
      "metadata": {},
      "source": "## \u003cspan style\u003d\"color:orange\"\u003eQuestion 18: Create a managed table called \"tweet_words_sentiment\" \u003c/span\u003e"
    },
    {
      "cell_type": "code",
      "execution_count": 34,
      "metadata": {
        "autoscroll": "auto"
      },
      "outputs": [],
      "source": "drop table tweets_words_sentiment_test;\ndrop view tweet_words_sentiment;\ncreate table tweet_words_sentiment as select \n    id,\n    tweets_words.dummy_words,\n    case sentiment_dictionary.polarity\n      when \u0027negative\u0027 then -1\n      when \u0027positive\u0027 then 1\n      else 0 end as polarity\n from tweets_words left outer join sentiment_dictionary on tweets_words.dummy_words \u003d sentiment_dictionary.words;"
    },
    {
      "cell_type": "markdown",
      "metadata": {},
      "source": "## \u003cspan style\u003d\"color:orange\"\u003eQuestion 19: Create a managed table \"tweets_sentiment\" that sums the polarity of each tweet\u003c/span\u003e"
    },
    {
      "cell_type": "code",
      "execution_count": 36,
      "metadata": {
        "autoscroll": "auto"
      },
      "outputs": [],
      "source": "drop table tweets_sentiment_test;\ndrop table tweets_sentiment;\ncreate table tweets_sentiment stored as orc as select\n  id,\n  case\n    when sum(polarity) \u003e 0 then \u0027positive\u0027\n    when sum(polarity) \u003c 0 then \u0027negative\u0027\n    else \u0027neutral\u0027 end as polarity\nfrom tweets_words_sentiment\ngroup by id;"
    },
    {
      "cell_type": "markdown",
      "metadata": {},
      "source": "## \u003cspan style\u003d\"color:orange\"\u003eQuestion 20: Create query returns evolution of positive and negative tweets per second\u003c/span\u003e\n#### \u003cspan style\u003d\"color:red\"\u003eNote: I have slightly changed it, this is because I gathered lots of tweets in a matter of seconds. It is therefore that I decided to include minutes instead of per days and hours \u003c/span\u003e"
    },
    {
      "cell_type": "code",
      "execution_count": 38,
      "metadata": {
        "autoscroll": "auto"
      },
      "outputs": [],
      "source": "create temporary MACRO tweet_hour(created_at string)\nfrom_unixtime(unix_timestamp(created_at, \u0027EEE MMM dd HH:mm:ss +0000 yyyy\u0027),\u0027yyyyMMddHHmmss\u0027);\nselect hour,sum(positive) as positive,sum(negative) as negative from (select \n  tweet_hour(t.created_at) as hour,\n  count(case when s.polarity\u003d\u0027positive\u0027 then 1 else 0 end) as positive,\n  count(case when s.polarity\u003d\u0027negative\u0027 then 1 else 0 end) as negative\nfrom tweets_parquet t left outer join tweets_sentiment s on t.id \u003d s.id\ngroup by t.created_at) as question20\ngroup by hour"
    }
  ]
}
